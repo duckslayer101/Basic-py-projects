{
  "nbformat": 4,
  "nbformat_minor": 0,
  "metadata": {
    "colab": {
      "provenance": [],
      "collapsed_sections": [
        "GHB1e5NC0NUi",
        "y3jXV80_woBA",
        "_dCxrAEIycBD"
      ],
      "authorship_tag": "ABX9TyOe870gnusqv5ij0LnvUDso",
      "include_colab_link": true
    },
    "kernelspec": {
      "name": "python3",
      "display_name": "Python 3"
    },
    "language_info": {
      "name": "python"
    }
  },
  "cells": [
    {
      "cell_type": "markdown",
      "metadata": {
        "id": "view-in-github",
        "colab_type": "text"
      },
      "source": [
        "<a href=\"https://colab.research.google.com/github/duckslayer101/Basic-py-projects/blob/main/Array.ipynb\" target=\"_parent\"><img src=\"https://colab.research.google.com/assets/colab-badge.svg\" alt=\"Open In Colab\"/></a>"
      ]
    },
    {
      "cell_type": "markdown",
      "source": [
        "\n",
        "# ***Array***\n",
        "\n",
        "\n",
        "\n",
        "*   Array is matrix\n",
        "\n",
        "\n",
        "\n",
        "*   Homogenous (can only store one data type at a time)\n",
        "    (There is exception also)\n",
        "*   Has fixed length\n",
        "\n",
        "\n",
        "*   More efficient than list\n",
        "*   Have to import to use this library\n",
        "\n",
        "\n",
        "\n",
        "\n",
        "\n",
        "\n",
        "\n",
        "\n",
        "\n"
      ],
      "metadata": {
        "id": "GHB1e5NC0NUi"
      }
    },
    {
      "cell_type": "code",
      "execution_count": null,
      "metadata": {
        "id": "g52o0s7xi5vD"
      },
      "outputs": [],
      "source": [
        "import numpy as np"
      ]
    },
    {
      "cell_type": "markdown",
      "source": [
        "# **Linear Array**"
      ],
      "metadata": {
        "id": "y3jXV80_woBA"
      }
    },
    {
      "cell_type": "code",
      "source": [
        "a = np.array([1, 2, 3])\n",
        "print(a)\n",
        "\n",
        "# array's values are changable\n",
        "a[1] = 4\n",
        "print(a)"
      ],
      "metadata": {
        "id": "u07uoOO9pFI_"
      },
      "execution_count": null,
      "outputs": []
    },
    {
      "cell_type": "code",
      "source": [
        "# empty value/ null value/ dummy value will be in right side.\n",
        "\n",
        "arr = np.array([1, 2, 3, 0])\n",
        "\n",
        "# Here 0 is a dummy value."
      ],
      "metadata": {
        "id": "1WjUjNUwM217"
      },
      "execution_count": null,
      "outputs": []
    },
    {
      "cell_type": "code",
      "source": [
        "\"\"\"In order to put string into another array we have to use None cause\n",
        "    if we do [''] this will take the first character only. That's why\n",
        "    have to do [None] in order to take string.\n",
        "\"\"\"\n",
        "\n",
        "a = np.array(['abc', 'def'])\n",
        "b = np.array([None]*2)\n",
        "for i in range(len(a)):\n",
        "    b[i] = a[i]\n",
        "print(b)"
      ],
      "metadata": {
        "id": "f-wV1Xqt0Ii5"
      },
      "execution_count": null,
      "outputs": []
    },
    {
      "cell_type": "code",
      "source": [
        "# Iteration\n",
        "\n",
        "for i in a:\n",
        "  print(i)\n",
        "\n",
        "for i in range(len(a)):\n",
        "  print(a[i])"
      ],
      "metadata": {
        "id": "X05B8UyupLb9"
      },
      "execution_count": null,
      "outputs": []
    },
    {
      "cell_type": "code",
      "source": [
        "# Specail initilization where the values of array are treated like object\n",
        "\n",
        "a1 = np.array([None]*5)\n",
        "print(a1)\n",
        "\n",
        "a1[2] = 3\n",
        "print(a1)\n",
        "\n",
        "# Here because of None the array is actually working as a non-homogenous since it's treating the none values as object."
      ],
      "metadata": {
        "id": "93fz1IVYzlGr"
      },
      "execution_count": null,
      "outputs": []
    },
    {
      "cell_type": "code",
      "source": [
        "# array is matrix. In this addition scenario it adds like matrix addition. It doesn't add like in list.\n",
        "\n",
        "b = np.array([1, 2, 3])\n",
        "c = np.array([4, 5, 6])\n",
        "\n",
        "n = b+c\n",
        "print(n)"
      ],
      "metadata": {
        "id": "psVZgPynpTZE"
      },
      "execution_count": null,
      "outputs": []
    },
    {
      "cell_type": "code",
      "source": [
        "# Resize. In order to resize an array, we need to create a new array with the new length and copy values from old array to the new array.\n",
        "\n",
        "arr = np.array([1, 2, 3, 4])\n",
        "new_arr = np.zeros(8, dtype=int)\n",
        "\n",
        "for i in range(len(arr)):\n",
        "  new_arr[i] = arr[i]\n",
        "print(new_arr)"
      ],
      "metadata": {
        "id": "sbLnPvscuSKb"
      },
      "execution_count": null,
      "outputs": []
    },
    {
      "cell_type": "code",
      "source": [
        "# another way of initializing\n",
        "\n",
        "arr = np.zeros(5)\n",
        "print(arr)\n",
        "\n",
        "# Here the default data type is float. It can be changed by using dtype='....'\n",
        "\n",
        "arr = np.zeros(5, dtype=str)\n",
        "print(arr)"
      ],
      "metadata": {
        "id": "tHosnGe5wmm-"
      },
      "execution_count": null,
      "outputs": []
    },
    {
      "cell_type": "code",
      "source": [
        "a = np.array([1, 2, 3, 4, 5])\n",
        "print(a[-1::-1])\n",
        "\n",
        "# Reverse iteration\n",
        "\n",
        "for i in range(len(a)-1,-1,-1):\n",
        "    print(a[i])"
      ],
      "metadata": {
        "id": "f6eHNhkF1Piz"
      },
      "execution_count": null,
      "outputs": []
    },
    {
      "cell_type": "code",
      "source": [
        "# copy in array (pass by reference)\n",
        "\n",
        "a = np.array([1, 2, 3])\n",
        "b = a\n",
        "print(b)\n",
        "b[1] = 4\n",
        "print(a)"
      ],
      "metadata": {
        "id": "QD4_eb3g13us"
      },
      "execution_count": null,
      "outputs": []
    },
    {
      "cell_type": "code",
      "source": [
        "# deep copy (pass by value)\n",
        "\n",
        "a = np.array([1, 2, 3])\n",
        "b = a.copy()\n",
        "print(b)\n",
        "b[1] = 5\n",
        "print(a)\n",
        "print(b)"
      ],
      "metadata": {
        "id": "Wp_33mq87JHK"
      },
      "execution_count": null,
      "outputs": []
    },
    {
      "cell_type": "code",
      "source": [
        "# left shift        [2 3 0]\n",
        "\n",
        "a = np.array([1, 2, 3])\n",
        "def left_shift(arr):\n",
        "    for i in range(len(arr)-1):\n",
        "        arr[i] = arr[i+1]\n",
        "    arr[-1] = 0\n",
        "    return arr\n",
        "\n",
        "print(left_shift(a))"
      ],
      "metadata": {
        "id": "T6Zd6Ni884sQ"
      },
      "execution_count": null,
      "outputs": []
    },
    {
      "cell_type": "code",
      "source": [
        "# right shift       [0 1 2]\n",
        "\n",
        "a = np.array([1, 2, 3])\n",
        "def right_shift(arr):\n",
        "    for i in range(len(arr)-1, 0, -1):\n",
        "        arr[i] = arr[i-1]\n",
        "    arr[0] = 0\n",
        "    return arr\n",
        "\n",
        "print(right_shift(a))"
      ],
      "metadata": {
        "id": "1xmnNIG7_BB1"
      },
      "execution_count": null,
      "outputs": []
    },
    {
      "cell_type": "code",
      "source": [
        "# left rotate       [2 3 1]\n",
        "\n",
        "a = np.array([1, 2, 3])\n",
        "def left_rotate(arr):\n",
        "    temp = arr[0]\n",
        "    for i in range(len(arr)-1):\n",
        "        arr[i] = arr[i+1]\n",
        "    arr[-1] = temp\n",
        "    return arr\n",
        "\n",
        "print(left_rotate(a))"
      ],
      "metadata": {
        "id": "TfQYHnrB_1NJ"
      },
      "execution_count": null,
      "outputs": []
    },
    {
      "cell_type": "code",
      "source": [
        "# right rotate      [3 1 2]\n",
        "\n",
        "a = np.array([1, 2, 3])\n",
        "def right_rotate(a):\n",
        "    temp = a[-1]\n",
        "    for i in range(len(a)-1, 0, -1):\n",
        "        a[i] = a[i-1]\n",
        "    a[0] = temp\n",
        "    return a\n",
        "\n",
        "print(right_rotate(a))"
      ],
      "metadata": {
        "id": "JpBPH2qODK7V"
      },
      "execution_count": null,
      "outputs": []
    },
    {
      "cell_type": "code",
      "source": [
        "# Reverse (out of place)\n",
        "\n",
        "a = np.array([1, 2, 3, 4, 5])\n",
        "b = np.array([0]*len(a))\n",
        "for i in range(len(b)):\n",
        "    b[i] = a[len(a)-i-1]\n",
        "print(b)"
      ],
      "metadata": {
        "id": "SGUr239uEDIJ"
      },
      "execution_count": null,
      "outputs": []
    },
    {
      "cell_type": "code",
      "source": [
        "# Reverse (in place)\n",
        "\n",
        "a = np.array([1, 2, 3, 4, 5, 6, 7])\n",
        "def reverse_inplace(a1):\n",
        "    for i in range(len(a1)//2):\n",
        "        a1[i], a1[len(a1)-i-1] = a1[len(a1)-i-1], a1[i]\n",
        "    return a1\n",
        "\n",
        "print(reverse_inplace(a))\n",
        "print(a)"
      ],
      "metadata": {
        "id": "4VD0inVlFUvZ"
      },
      "execution_count": null,
      "outputs": []
    },
    {
      "cell_type": "code",
      "source": [
        "a = 1\n",
        "b = 2\n",
        "a, b = b, a\n",
        "print(a, b)"
      ],
      "metadata": {
        "id": "oPrypR7SJjT5"
      },
      "execution_count": null,
      "outputs": []
    },
    {
      "cell_type": "code",
      "source": [
        "# Size of array. It's the number of non-dummy values in an array. It's used in insertion and in delation\n",
        "\n",
        "a = np.zeros(5, dtype=int)\n",
        "print(a)\n",
        "a[0], a[1], a[2] = 1, 2, 3\n",
        "def non_dummies(arr, size):\n",
        "    for i in range(size):\n",
        "        print(arr[i])\n",
        "\n",
        "non_dummies(a, 3)\n",
        "print(a)"
      ],
      "metadata": {
        "id": "PCLSYXbHNgXD"
      },
      "execution_count": null,
      "outputs": []
    },
    {
      "cell_type": "code",
      "source": [
        "# insert (at the end)\n",
        "\n",
        "a = np.array([1, 2, 3, 4, 5, 6])\n",
        "def resize_array(arr, new_length):\n",
        "    a = np.zeros(new_length, dtype= int)\n",
        "    for i in range(len(arr)):\n",
        "        a[i] = arr[i]\n",
        "    return a\n",
        "\n",
        "def insert_athe_end(arr, size, value):\n",
        "    if size >= len(arr):\n",
        "        arr = resize_array(arr, len(arr)*2)\n",
        "    arr[size] = value\n",
        "    return arr\n",
        "\n",
        "\n",
        "print(insert_athe_end(a, 6, 7))"
      ],
      "metadata": {
        "id": "STsPlUm4WBF2"
      },
      "execution_count": null,
      "outputs": []
    },
    {
      "cell_type": "code",
      "source": [
        "a = np.array([1, 2, 3, 4])\n",
        "def insertend(a, size, elem):\n",
        "    if size >= len(a):\n",
        "        a = resize_array(a, len(a)*2)\n",
        "    a[size] = elem\n",
        "    return a\n",
        "\n",
        "print(insertend(a, 4, 5))"
      ],
      "metadata": {
        "colab": {
          "base_uri": "https://localhost:8080/"
        },
        "id": "RDUp7vWsqO55",
        "outputId": "52848535-15a8-4747-85e0-cf92b5dc24b0"
      },
      "execution_count": null,
      "outputs": [
        {
          "metadata": {
            "tags": null
          },
          "name": "stdout",
          "output_type": "stream",
          "text": [
            "[1 2 3 4 5 0 0 0]\n"
          ]
        }
      ]
    },
    {
      "cell_type": "code",
      "source": [
        "# insert anywhere but end\n",
        "\n",
        "a =  np.array([1, 2, 3, 4, 5])\n",
        "def insert_anywhere_butend(a, size, index, elem):\n",
        "    if index<0 or index>=len(a):\n",
        "        return 'Inserting is not possible'\n",
        "    if size >= len(a):\n",
        "        a = resize_array(a, len(a)*2)\n",
        "        print(f'Resized array: {a}')\n",
        "    for i in range(len(a)-1, index, -1):\n",
        "        a[i] = a[i-1]\n",
        "    a[index] = elem\n",
        "    return a\n",
        "\n",
        "print(insert_anywhere_butend(a, size = 5, index = 2, elem = 10))"
      ],
      "metadata": {
        "colab": {
          "base_uri": "https://localhost:8080/"
        },
        "id": "mfRxY0M0tGNY",
        "outputId": "f22465b2-b49c-4feb-9533-bccb6dd47e5e"
      },
      "execution_count": null,
      "outputs": [
        {
          "metadata": {
            "tags": null
          },
          "name": "stdout",
          "output_type": "stream",
          "text": [
            "Resized array: [1 2 3 4 5 0 0 0 0 0]\n",
            "[ 1  2 10  3  4  5  0  0  0  0]\n"
          ]
        }
      ]
    },
    {
      "cell_type": "code",
      "source": [
        "a = np.array([1, 2, 3, 5, 6, 0])\n",
        "def insert_inbetween(arr, size, index, elem):\n",
        "    if index<0 or index>=len(arr):\n",
        "        return 'Not possible'\n",
        "    if size >= len(arr):\n",
        "        arr = resize_array(arr, len(arr)*2)\n",
        "    for i in range(len(arr)-1, index, -1):\n",
        "        arr[i] = arr[i-1]\n",
        "    arr[index] = elem\n",
        "    return arr\n",
        "\n",
        "print(insert_inbetween(a, 5, 3, 4))"
      ],
      "metadata": {
        "colab": {
          "base_uri": "https://localhost:8080/"
        },
        "id": "vOzLnrL9zRZ0",
        "outputId": "976e8a7f-7ccd-46e7-8886-35cec915123d"
      },
      "execution_count": null,
      "outputs": [
        {
          "metadata": {
            "tags": null
          },
          "name": "stdout",
          "output_type": "stream",
          "text": [
            "[1 2 3 4 5 6]\n"
          ]
        }
      ]
    },
    {
      "cell_type": "code",
      "source": [
        "# Remove last element\n",
        "\n",
        "arr = np.array([1, 2, 3, 4])\n",
        "def rmv_last_elem(arr, size):\n",
        "    if size == 0:\n",
        "        return 'Remove isn\\'t possible'\n",
        "    arr[size-1] = 0\n",
        "    return arr\n",
        "\n",
        "print(rmv_last_elem(arr, 4))"
      ],
      "metadata": {
        "colab": {
          "base_uri": "https://localhost:8080/"
        },
        "id": "6nBM8jxA47zV",
        "outputId": "7c65fc0f-97d6-4422-b22d-58bbc383b716"
      },
      "execution_count": null,
      "outputs": [
        {
          "metadata": {
            "tags": null
          },
          "name": "stdout",
          "output_type": "stream",
          "text": [
            "[1 2 3 0]\n"
          ]
        }
      ]
    },
    {
      "cell_type": "code",
      "source": [
        "arr = np.array([1,2,3,4,5,6,7,0,0,0])\n",
        "def rmvlast(arr, size):\n",
        "    if size == 0:\n",
        "        return 'Not possible'\n",
        "    arr[size-1] = 0\n",
        "    return arr\n",
        "\n",
        "print(rmvlast(arr, 7))"
      ],
      "metadata": {
        "colab": {
          "base_uri": "https://localhost:8080/"
        },
        "id": "cIVvgQfy-mwE",
        "outputId": "5a20455c-6a49-4cbe-f7a3-8ae9f69cf4b9"
      },
      "execution_count": null,
      "outputs": [
        {
          "metadata": {
            "tags": null
          },
          "name": "stdout",
          "output_type": "stream",
          "text": [
            "[1 2 3 4 5 6 0 0 0 0]\n"
          ]
        }
      ]
    },
    {
      "cell_type": "code",
      "source": [
        "# Remove any other but last elem\n",
        "\n",
        "def elem_inbetween(arr, size, index):\n",
        "    if index<0 or index>=len(arr):\n",
        "        return 'Not possible'\n",
        "    arr[index] = 0\n",
        "    for i in range(index, size-1):\n",
        "        arr[i] = arr[i+1]\n",
        "    arr[size-1] = 0\n",
        "    return arr\n",
        "\n",
        "\n",
        "a = np.array([1, 2, 3, 4, 5])\n",
        "print(elem_inbetween(a, 5, 1))"
      ],
      "metadata": {
        "colab": {
          "base_uri": "https://localhost:8080/"
        },
        "id": "pt83dKV7_aKs",
        "outputId": "b198a02a-139a-4387-f219-e3399cd59646"
      },
      "execution_count": null,
      "outputs": [
        {
          "metadata": {
            "tags": null
          },
          "name": "stdout",
          "output_type": "stream",
          "text": [
            "[1 3 4 5 0]\n"
          ]
        }
      ]
    },
    {
      "cell_type": "code",
      "source": [
        "def elem_remv(arr, index, size):\n",
        "    if index<0 or index>=len(arr):\n",
        "        return 'Not possible'\n",
        "    arr[index] = 0\n",
        "    for i in range(index, len(arr)-1):\n",
        "        arr[i] = arr[i+1]\n",
        "    arr[size-1] = 0\n",
        "    return arr\n",
        "\n",
        "arr = np.array([1, 2, 3, 4, 5])\n",
        "print(elem_remv(arr, index = 2, size = 5))"
      ],
      "metadata": {
        "id": "faDCDecqEyEW",
        "colab": {
          "base_uri": "https://localhost:8080/"
        },
        "outputId": "20cf8932-3057-4467-d502-08de258e08f0"
      },
      "execution_count": null,
      "outputs": [
        {
          "metadata": {
            "tags": null
          },
          "name": "stdout",
          "output_type": "stream",
          "text": [
            "[1 2 4 5 0]\n"
          ]
        }
      ]
    },
    {
      "cell_type": "code",
      "source": [
        "# Sorting array\n",
        "# small to big\n",
        "\n",
        "def small_to_big(arr):\n",
        "    for i in range(len(arr)-1):         # ***This (len-1) is so important***\n",
        "        min = arr[i]\n",
        "        for j in range(i+1, len(arr)):\n",
        "            if arr[j]<min:\n",
        "                min = arr[j]\n",
        "                indx = j\n",
        "        arr[i], arr[indx] = min, arr[i]\n",
        "    return arr\n",
        "arr = np.array([5, 3, 6, 8, 2, 0, -1, -2])\n",
        "print(small_to_big(arr))"
      ],
      "metadata": {
        "colab": {
          "base_uri": "https://localhost:8080/"
        },
        "id": "OgopflreL5en",
        "outputId": "a639f3ff-b978-4049-e3ae-b55c53161059"
      },
      "execution_count": null,
      "outputs": [
        {
          "metadata": {
            "tags": null
          },
          "name": "stdout",
          "output_type": "stream",
          "text": [
            "[-2 -1  0  2  3  5  6  8]\n"
          ]
        }
      ]
    },
    {
      "cell_type": "code",
      "source": [
        "def small_to_bg(arr):\n",
        "    for i in range(len(arr)-1):\n",
        "        min = arr[i]\n",
        "        for j in range(i+1, len(arr)):\n",
        "            if arr[j]<min:\n",
        "                min = arr[j]\n",
        "                indx = j\n",
        "        arr[i], arr[indx] = min, arr[i]\n",
        "        print(arr)\n",
        "    return arr\n",
        "\n",
        "a = np.array([1, 0, 4, 2, -1, -5, 7])\n",
        "print(small_to_bg(a))"
      ],
      "metadata": {
        "colab": {
          "base_uri": "https://localhost:8080/"
        },
        "id": "bLJWMLGOQOyv",
        "outputId": "d23731c0-3255-4b65-f2ae-c4336c6f0349"
      },
      "execution_count": null,
      "outputs": [
        {
          "metadata": {
            "tags": null
          },
          "name": "stdout",
          "output_type": "stream",
          "text": [
            "[-5  0  4  2 -1  1  7]\n",
            "[-5 -1  4  2  0  1  7]\n",
            "[-5 -1  0  2  4  1  7]\n",
            "[-5 -1  0  1  4  2  7]\n",
            "[-5 -1  0  1  2  4  7]\n",
            "[-5 -1  0  1  2  4  7]\n",
            "[-5 -1  0  1  2  4  7]\n"
          ]
        }
      ]
    },
    {
      "cell_type": "markdown",
      "source": [
        "# **Multidimensional Array**\n",
        "\n",
        "*   2D Array\n",
        "*   3D Array\n",
        "\n",
        "\n",
        "*   There could be more dimensional array too\n",
        "\n",
        "\n",
        "*   Dimensions have to be fixed\n",
        "\n",
        "\n",
        "\n",
        "\n",
        "\n",
        "\n",
        "\n"
      ],
      "metadata": {
        "id": "_dCxrAEIycBD"
      }
    },
    {
      "cell_type": "code",
      "source": [
        "# Initialization\n",
        "\n",
        "arr = np.array([[1, 2, 3], [4, 5, 6]])\n",
        "print(arr)"
      ],
      "metadata": {
        "id": "LE3yppk2lPL1"
      },
      "execution_count": null,
      "outputs": []
    },
    {
      "cell_type": "code",
      "source": [
        "# Another way of initialization\n",
        "\n",
        "m = np.zeros((3,2), dtype=int)      # same as linear array\n",
        "print(m)"
      ],
      "metadata": {
        "id": "fZApm92xM1gK"
      },
      "execution_count": null,
      "outputs": []
    },
    {
      "cell_type": "code",
      "source": [
        "# row = length of outer array\n",
        "print(f'Row: {len(arr)}')\n",
        "\n",
        "# column = length of inner array\n",
        "print(f'Column: {len(arr[0])}')\n"
      ],
      "metadata": {
        "id": "qKQ2lou92PuU"
      },
      "execution_count": null,
      "outputs": []
    },
    {
      "cell_type": "code",
      "source": [
        "# another way of finding row and column\n",
        "\n",
        "row, column = arr.shape     # This gives a tuple\n",
        "print(row, column)"
      ],
      "metadata": {
        "id": "o4re70Td6MFm"
      },
      "execution_count": null,
      "outputs": []
    },
    {
      "cell_type": "code",
      "source": [
        "# Iteration         # row print also\n",
        "\n",
        "arr = np.array([[1, 2, 3], [4, 5, 6]])\n",
        "for i in range(len(arr)):\n",
        "    for j in range(len(arr[0])):\n",
        "        print(arr[i][j])"
      ],
      "metadata": {
        "id": "IVcusg7w2htA"
      },
      "execution_count": null,
      "outputs": []
    },
    {
      "cell_type": "code",
      "source": [
        "# column print\n",
        "\n",
        "m = np.array([[1, 2, 3], [4, 5, 6]])\n",
        "print(m)\n",
        "\n",
        "def column_print(m):\n",
        "    r, c = m.shape\n",
        "    for i in range(c):\n",
        "        for j in range(r):\n",
        "            print(m[j][i])\n",
        "\n",
        "column_print(m)"
      ],
      "metadata": {
        "id": "fRf4nhFm4n-e"
      },
      "execution_count": null,
      "outputs": []
    },
    {
      "cell_type": "code",
      "source": [
        "\n",
        "m = np.array([[1, 2, 3], [4, 5, 6]])\n",
        "for i in range(len(m[0])):\n",
        "    for j in range(len(m)):\n",
        "        print(m[j][i])"
      ],
      "metadata": {
        "id": "DOLTlEI3AWwu"
      },
      "execution_count": null,
      "outputs": []
    },
    {
      "cell_type": "code",
      "source": [
        "# Add 2 matrix\n",
        "\n",
        "def add_matrix(m, n):\n",
        "    if m.shape != n.shape:\n",
        "        return 'Not possible'\n",
        "    for i in range(len(m)):\n",
        "        for j in range(len(m[0])):\n",
        "            m[i][j] += n[i][j]\n",
        "    return m\n",
        "\n",
        "a = np.array([[1,2,3], [4,5,6]])\n",
        "b = np.array([[1,1,1], [1,1,1]])\n",
        "print(add_matrix(a, b))"
      ],
      "metadata": {
        "id": "hlSacGnjEy9s"
      },
      "execution_count": null,
      "outputs": []
    },
    {
      "cell_type": "code",
      "source": [],
      "metadata": {
        "id": "NNFmg6DXG2_o"
      },
      "execution_count": null,
      "outputs": []
    }
  ]
}