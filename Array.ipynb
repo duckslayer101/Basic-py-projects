{
  "nbformat": 4,
  "nbformat_minor": 0,
  "metadata": {
    "colab": {
      "provenance": [],
      "collapsed_sections": [
        "GHB1e5NC0NUi",
        "y3jXV80_woBA",
        "_dCxrAEIycBD"
      ],
      "authorship_tag": "ABX9TyNcTfJSZUiTfQASKtDZ45Z8",
      "include_colab_link": true
    },
    "kernelspec": {
      "name": "python3",
      "display_name": "Python 3"
    },
    "language_info": {
      "name": "python"
    }
  },
  "cells": [
    {
      "cell_type": "markdown",
      "metadata": {
        "id": "view-in-github",
        "colab_type": "text"
      },
      "source": [
        "<a href=\"https://colab.research.google.com/github/duckslayer101/Basic-py-projects/blob/main/Array.ipynb\" target=\"_parent\"><img src=\"https://colab.research.google.com/assets/colab-badge.svg\" alt=\"Open In Colab\"/></a>"
      ]
    },
    {
      "cell_type": "markdown",
      "source": [
        "\n",
        "# ***Array***\n",
        "\n",
        "\n",
        "\n",
        "*   Array is matrix\n",
        "\n",
        "\n",
        "\n",
        "*   Homogenous (can only store one data type at a time)\n",
        "    (There is exception also)\n",
        "*   Has fixed length\n",
        "\n",
        "\n",
        "*   More efficient than list\n",
        "*   Have to import to use this library\n",
        "\n",
        "\n",
        "\n",
        "\n",
        "\n",
        "\n",
        "\n",
        "\n",
        "\n"
      ],
      "metadata": {
        "id": "GHB1e5NC0NUi"
      }
    },
    {
      "cell_type": "code",
      "execution_count": 1,
      "metadata": {
        "id": "g52o0s7xi5vD"
      },
      "outputs": [],
      "source": [
        "import numpy as np"
      ]
    },
    {
      "cell_type": "markdown",
      "source": [
        "# **Linear Array**"
      ],
      "metadata": {
        "id": "y3jXV80_woBA"
      }
    },
    {
      "cell_type": "code",
      "source": [
        "a = np.array([1, 2, 3])\n",
        "print(a)\n",
        "\n",
        "# array's values are changable\n",
        "a[1] = 4\n",
        "print(a)"
      ],
      "metadata": {
        "colab": {
          "base_uri": "https://localhost:8080/"
        },
        "id": "u07uoOO9pFI_",
        "outputId": "0c5ebd51-2206-40d1-b8c5-a99ffec22c53"
      },
      "execution_count": 2,
      "outputs": [
        {
          "output_type": "stream",
          "name": "stdout",
          "text": [
            "[1 2 3]\n",
            "[1 4 3]\n"
          ]
        }
      ]
    },
    {
      "cell_type": "code",
      "source": [
        "# empty value/ null value/ dummy value will be in right side.\n",
        "\n",
        "arr = np.array([1, 2, 3, 0])\n",
        "\n",
        "# Here 0 is a dummy value."
      ],
      "metadata": {
        "id": "1WjUjNUwM217"
      },
      "execution_count": null,
      "outputs": []
    },
    {
      "cell_type": "code",
      "source": [
        "# Iteration\n",
        "\n",
        "for i in a:\n",
        "  print(i)\n",
        "\n",
        "for i in range(len(a)):\n",
        "  print(a[i])"
      ],
      "metadata": {
        "colab": {
          "base_uri": "https://localhost:8080/"
        },
        "id": "X05B8UyupLb9",
        "outputId": "2d9a77fb-3026-4513-cf54-d0b620fefdf9"
      },
      "execution_count": 3,
      "outputs": [
        {
          "output_type": "stream",
          "name": "stdout",
          "text": [
            "1\n",
            "4\n",
            "3\n",
            "1\n",
            "4\n",
            "3\n"
          ]
        }
      ]
    },
    {
      "cell_type": "code",
      "source": [
        "# Specail initilization where the values of array are treated like object\n",
        "\n",
        "a1 = np.array([None]*5)\n",
        "print(a1)\n",
        "\n",
        "a1[2] = 3\n",
        "print(a1)\n",
        "\n",
        "# Here because of None the array is actually working as a non-homogenous since it's treating the none values as object."
      ],
      "metadata": {
        "colab": {
          "base_uri": "https://localhost:8080/"
        },
        "id": "93fz1IVYzlGr",
        "outputId": "5d59e4af-2cf3-4bb0-fd55-bab3b7bb28d9"
      },
      "execution_count": 4,
      "outputs": [
        {
          "output_type": "stream",
          "name": "stdout",
          "text": [
            "[None None None None None]\n",
            "[None None 3 None None]\n"
          ]
        }
      ]
    },
    {
      "cell_type": "code",
      "source": [
        "# array is matrix. In this addition scenario it adds like matrix addition. It doesn't add like in list.\n",
        "\n",
        "b = np.array([1, 2, 3])\n",
        "c = np.array([4, 5, 6])\n",
        "\n",
        "n = b+c\n",
        "print(n)"
      ],
      "metadata": {
        "colab": {
          "base_uri": "https://localhost:8080/"
        },
        "id": "psVZgPynpTZE",
        "outputId": "3f6c41a9-8982-464a-fa2c-cc6e7557d61d"
      },
      "execution_count": 5,
      "outputs": [
        {
          "output_type": "stream",
          "name": "stdout",
          "text": [
            "[5 7 9]\n"
          ]
        }
      ]
    },
    {
      "cell_type": "code",
      "source": [
        "# Resize. In order to resize an array, we need to create a new array with the new length and copy values from old array to the new array.\n",
        "\n",
        "arr = np.array([1, 2, 3, 4])\n",
        "new_arr = np.zeros(8, dtype=int)\n",
        "\n",
        "for i in range(len(arr)):\n",
        "  new_arr[i] = arr[i]\n",
        "print(new_arr)"
      ],
      "metadata": {
        "colab": {
          "base_uri": "https://localhost:8080/"
        },
        "id": "sbLnPvscuSKb",
        "outputId": "54d57bcf-b595-49fa-c69d-4e072f1dd629"
      },
      "execution_count": 6,
      "outputs": [
        {
          "output_type": "stream",
          "name": "stdout",
          "text": [
            "[1 2 3 4 0 0 0 0]\n"
          ]
        }
      ]
    },
    {
      "cell_type": "code",
      "source": [
        "# another way of initializing\n",
        "\n",
        "arr = np.zeros(5)\n",
        "print(arr)\n",
        "\n",
        "# Here the default data type is float. It can be changed by using dtype='....'\n",
        "\n",
        "arr = np.zeros(5, dtype=str)\n",
        "print(arr)"
      ],
      "metadata": {
        "colab": {
          "base_uri": "https://localhost:8080/"
        },
        "id": "tHosnGe5wmm-",
        "outputId": "33a72bd2-67b5-48c8-89f1-c7e50d245733"
      },
      "execution_count": 7,
      "outputs": [
        {
          "output_type": "stream",
          "name": "stdout",
          "text": [
            "[0. 0. 0. 0. 0.]\n",
            "['' '' '' '' '']\n"
          ]
        }
      ]
    },
    {
      "cell_type": "code",
      "source": [
        "a = np.array([1, 2, 3, 4, 5])\n",
        "print(a[-1::-1])\n",
        "\n",
        "# Reverse iteration\n",
        "\n",
        "for i in range(len(a)-1,-1,-1):\n",
        "    print(a[i])"
      ],
      "metadata": {
        "colab": {
          "base_uri": "https://localhost:8080/"
        },
        "id": "f6eHNhkF1Piz",
        "outputId": "2829c73f-d5e7-478c-d17e-2294b049b289"
      },
      "execution_count": 8,
      "outputs": [
        {
          "output_type": "stream",
          "name": "stdout",
          "text": [
            "[5 4 3 2 1]\n",
            "5\n",
            "4\n",
            "3\n",
            "2\n",
            "1\n"
          ]
        }
      ]
    },
    {
      "cell_type": "code",
      "source": [
        "# copy in array (pass by reference)\n",
        "\n",
        "a = np.array([1, 2, 3])\n",
        "b = a\n",
        "print(b)\n",
        "b[1] = 4\n",
        "print(a)"
      ],
      "metadata": {
        "colab": {
          "base_uri": "https://localhost:8080/"
        },
        "id": "QD4_eb3g13us",
        "outputId": "4b77afb6-bd2d-4377-e2b7-14602d22c62c"
      },
      "execution_count": 9,
      "outputs": [
        {
          "output_type": "stream",
          "name": "stdout",
          "text": [
            "[1 2 3]\n",
            "[1 4 3]\n"
          ]
        }
      ]
    },
    {
      "cell_type": "code",
      "source": [
        "# deep copy (pass by value)\n",
        "\n",
        "a = np.array([1, 2, 3])\n",
        "b = a.copy()\n",
        "print(b)\n",
        "b[1] = 5\n",
        "print(a)\n",
        "print(b)"
      ],
      "metadata": {
        "colab": {
          "base_uri": "https://localhost:8080/"
        },
        "id": "Wp_33mq87JHK",
        "outputId": "ca53c9eb-eef7-4ab9-a178-b03deb7fe25b"
      },
      "execution_count": 10,
      "outputs": [
        {
          "output_type": "stream",
          "name": "stdout",
          "text": [
            "[1 2 3]\n",
            "[1 2 3]\n",
            "[1 5 3]\n"
          ]
        }
      ]
    },
    {
      "cell_type": "code",
      "source": [
        "# left shift        [2 3 0]\n",
        "\n",
        "a = np.array([1, 2, 3])\n",
        "def left_shift(arr):\n",
        "    for i in range(len(arr)-1):\n",
        "        arr[i] = arr[i+1]\n",
        "    arr[-1] = 0\n",
        "    return arr\n",
        "\n",
        "print(left_shift(a))"
      ],
      "metadata": {
        "colab": {
          "base_uri": "https://localhost:8080/"
        },
        "id": "T6Zd6Ni884sQ",
        "outputId": "ddf15641-54ae-4a69-afdb-f4b1f082ebae"
      },
      "execution_count": 11,
      "outputs": [
        {
          "output_type": "stream",
          "name": "stdout",
          "text": [
            "[2 3 0]\n"
          ]
        }
      ]
    },
    {
      "cell_type": "code",
      "source": [
        "# right shift       [0 1 2]\n",
        "\n",
        "a = np.array([1, 2, 3])\n",
        "def right_shift(arr):\n",
        "    for i in range(len(arr)-1, 0, -1):\n",
        "        arr[i] = arr[i-1]\n",
        "    arr[0] = 0\n",
        "    return arr\n",
        "\n",
        "print(right_shift(a))"
      ],
      "metadata": {
        "colab": {
          "base_uri": "https://localhost:8080/"
        },
        "id": "1xmnNIG7_BB1",
        "outputId": "53d5a589-1e23-4acb-afd3-f1b3ad797bb1"
      },
      "execution_count": 12,
      "outputs": [
        {
          "output_type": "stream",
          "name": "stdout",
          "text": [
            "[0 1 2]\n"
          ]
        }
      ]
    },
    {
      "cell_type": "code",
      "source": [
        "# left rotate       [2 3 1]\n",
        "\n",
        "a = np.array([1, 2, 3])\n",
        "def left_rotate(arr):\n",
        "    temp = arr[0]\n",
        "    for i in range(len(arr)-1):\n",
        "        arr[i] = arr[i+1]\n",
        "    arr[-1] = temp\n",
        "    return arr\n",
        "\n",
        "print(left_rotate(a))"
      ],
      "metadata": {
        "colab": {
          "base_uri": "https://localhost:8080/"
        },
        "id": "TfQYHnrB_1NJ",
        "outputId": "ca1c7f93-6a35-4b7d-aa25-f1a5446f0b6b"
      },
      "execution_count": 13,
      "outputs": [
        {
          "output_type": "stream",
          "name": "stdout",
          "text": [
            "[2 3 1]\n"
          ]
        }
      ]
    },
    {
      "cell_type": "code",
      "source": [
        "# right rotate      [3 1 2]\n",
        "\n",
        "a = np.array([1, 2, 3])\n",
        "def right_rotate(a):\n",
        "    temp = a[-1]\n",
        "    for i in range(len(a)-1, 0, -1):\n",
        "        a[i] = a[i-1]\n",
        "    a[0] = temp\n",
        "    return a\n",
        "\n",
        "print(right_rotate(a))"
      ],
      "metadata": {
        "colab": {
          "base_uri": "https://localhost:8080/"
        },
        "id": "JpBPH2qODK7V",
        "outputId": "2343081c-6ceb-4a72-d168-eaa13821ca0c"
      },
      "execution_count": 14,
      "outputs": [
        {
          "output_type": "stream",
          "name": "stdout",
          "text": [
            "[3 1 2]\n"
          ]
        }
      ]
    },
    {
      "cell_type": "code",
      "source": [
        "# Reverse (out of place)\n",
        "\n",
        "a = np.array([1, 2, 3, 4, 5])\n",
        "b = np.array([0]*len(a))\n",
        "for i in range(len(b)):\n",
        "    b[i] = a[len(a)-i-1]\n",
        "print(b)"
      ],
      "metadata": {
        "colab": {
          "base_uri": "https://localhost:8080/"
        },
        "id": "SGUr239uEDIJ",
        "outputId": "af3d46f0-07fa-4c80-87e6-42eaf3905b55"
      },
      "execution_count": 15,
      "outputs": [
        {
          "output_type": "stream",
          "name": "stdout",
          "text": [
            "[5 4 3 2 1]\n"
          ]
        }
      ]
    },
    {
      "cell_type": "code",
      "source": [
        "# Reverse (in place)\n",
        "\n",
        "a = np.array([1, 2, 3, 4, 5, 6, 7])\n",
        "def reverse_inplace(a1):\n",
        "    for i in range(len(a1)//2):\n",
        "        a1[i], a1[len(a1)-i-1] = a1[len(a1)-i-1], a1[i]\n",
        "    return a1\n",
        "\n",
        "print(reverse_inplace(a))\n",
        "print(a)"
      ],
      "metadata": {
        "colab": {
          "base_uri": "https://localhost:8080/"
        },
        "id": "4VD0inVlFUvZ",
        "outputId": "7bb0e0e2-189e-4fff-c22a-b00d56c293be"
      },
      "execution_count": 26,
      "outputs": [
        {
          "output_type": "stream",
          "name": "stdout",
          "text": [
            "[7 6 5 4 3 2 1]\n",
            "[7 6 5 4 3 2 1]\n"
          ]
        }
      ]
    },
    {
      "cell_type": "code",
      "source": [
        "a = 1\n",
        "b = 2\n",
        "a, b = b, a\n",
        "print(a, b)"
      ],
      "metadata": {
        "colab": {
          "base_uri": "https://localhost:8080/"
        },
        "id": "oPrypR7SJjT5",
        "outputId": "71d2e442-2353-4a24-8971-26a334cc507a"
      },
      "execution_count": 17,
      "outputs": [
        {
          "output_type": "stream",
          "name": "stdout",
          "text": [
            "2 1\n"
          ]
        }
      ]
    },
    {
      "cell_type": "code",
      "source": [
        "# Size of array. It's the number of non-dummy values in an array. It's used in insertion and in delation\n",
        "\n",
        "a = np.zeros(5, dtype=int)\n",
        "print(a)\n",
        "a[0], a[1], a[2] = 1, 2, 3\n",
        "def non_dummies(arr, size):\n",
        "    for i in range(size):\n",
        "        print(arr[i])\n",
        "\n",
        "non_dummies(a, 3)\n",
        "print(a)"
      ],
      "metadata": {
        "colab": {
          "base_uri": "https://localhost:8080/"
        },
        "id": "PCLSYXbHNgXD",
        "outputId": "f04abc0c-7d98-4554-cb8f-328f8477957d"
      },
      "execution_count": 18,
      "outputs": [
        {
          "output_type": "stream",
          "name": "stdout",
          "text": [
            "[0 0 0 0 0]\n",
            "1\n",
            "2\n",
            "3\n",
            "[1 2 3 0 0]\n"
          ]
        }
      ]
    },
    {
      "cell_type": "code",
      "source": [
        "# insert (at the end)\n",
        "\n",
        "a = np.array([1, 2, 3, 4, 5, 6])\n",
        "def resize_array(arr, new_length):\n",
        "    a = np.zeros(new_length, dtype= int)\n",
        "    for i in range(len(arr)):\n",
        "        a[i] = arr[i]\n",
        "    return a\n",
        "\n",
        "def insert_athe_end(arr, size, value):\n",
        "    if size >= len(arr):\n",
        "        arr = resize_array(arr, len(arr)*2)\n",
        "    arr[size] = value\n",
        "    return arr\n",
        "\n",
        "\n",
        "print(insert_athe_end(a, 6, 7))"
      ],
      "metadata": {
        "id": "STsPlUm4WBF2",
        "colab": {
          "base_uri": "https://localhost:8080/"
        },
        "outputId": "332331ce-4c4e-440c-bc10-a6294b24416e"
      },
      "execution_count": 19,
      "outputs": [
        {
          "output_type": "stream",
          "name": "stdout",
          "text": [
            "[1 2 3 4 5 6 7 0 0 0 0 0]\n"
          ]
        }
      ]
    },
    {
      "cell_type": "code",
      "source": [
        "a = np.array([1, 2, 3, 4])\n",
        "def insertend(a, size, elem):\n",
        "    if size >= len(a):\n",
        "        a = resize_array(a, len(a)*2)\n",
        "    a[size] = elem\n",
        "    return a\n",
        "\n",
        "print(insertend(a, 4, 5))"
      ],
      "metadata": {
        "colab": {
          "base_uri": "https://localhost:8080/"
        },
        "id": "RDUp7vWsqO55",
        "outputId": "dfbff40f-bdfa-4de6-db46-6e55653c21c7"
      },
      "execution_count": 20,
      "outputs": [
        {
          "output_type": "stream",
          "name": "stdout",
          "text": [
            "[1 2 3 4 5 0 0 0]\n"
          ]
        }
      ]
    },
    {
      "cell_type": "code",
      "source": [
        "# insert anywhere but end\n",
        "\n",
        "a =  np.array([1, 2, 3, 4, 5])\n",
        "def insert_anywhere_butend(a, size, index, elem):\n",
        "    if index<0 or index>=len(a):\n",
        "        return 'Inserting is not possible'\n",
        "    if size >= len(a):\n",
        "        a = resize_array(a, len(a)*2)\n",
        "        print(f'Resized array: {a}')\n",
        "    for i in range(len(a)-1, index, -1):\n",
        "        a[i] = a[i-1]\n",
        "    a[index] = elem\n",
        "    return a\n",
        "\n",
        "print(insert_anywhere_butend(a, size = 5, index = 2, elem = 10))"
      ],
      "metadata": {
        "colab": {
          "base_uri": "https://localhost:8080/"
        },
        "id": "mfRxY0M0tGNY",
        "outputId": "5add72df-79b4-4b26-9bea-c88eaca12b56"
      },
      "execution_count": 27,
      "outputs": [
        {
          "output_type": "stream",
          "name": "stdout",
          "text": [
            "Resized array: [1 2 3 4 5 0 0 0 0 0]\n",
            "[ 1  2 10  3  4  5  0  0  0  0]\n"
          ]
        }
      ]
    },
    {
      "cell_type": "code",
      "source": [
        "a = np.array([1, 2, 3, 5, 6, 0])\n",
        "def insert_inbetween(arr, size, index, elem):\n",
        "    if index<0 or index>=len(arr):\n",
        "        return 'Not possible'\n",
        "    if size >= len(arr):\n",
        "        arr = resize_array(arr, len(arr)*2)\n",
        "    for i in range(len(arr)-1, index, -1):\n",
        "        arr[i] = arr[i-1]\n",
        "    arr[index] = elem\n",
        "    return arr\n",
        "\n",
        "print(insert_inbetween(a, 5, 3, 4))"
      ],
      "metadata": {
        "colab": {
          "base_uri": "https://localhost:8080/"
        },
        "id": "vOzLnrL9zRZ0",
        "outputId": "958b970e-f08e-4630-a5c1-25d68012d677"
      },
      "execution_count": 22,
      "outputs": [
        {
          "output_type": "stream",
          "name": "stdout",
          "text": [
            "[1 2 3 4 5 6]\n"
          ]
        }
      ]
    },
    {
      "cell_type": "code",
      "source": [
        "# Remove last element\n",
        "\n",
        "arr = np.array([1, 2, 3, 4])\n",
        "def rmv_last_elem(arr, size):\n",
        "    if size == 0:\n",
        "        return 'Remove isn\\'t possible'\n",
        "    arr[size-1] = 0\n",
        "    return arr\n",
        "\n",
        "print(rmv_last_elem(arr, 4))"
      ],
      "metadata": {
        "colab": {
          "base_uri": "https://localhost:8080/"
        },
        "id": "6nBM8jxA47zV",
        "outputId": "9fc30427-eabc-473c-a044-ef157b077c68"
      },
      "execution_count": 23,
      "outputs": [
        {
          "output_type": "stream",
          "name": "stdout",
          "text": [
            "[1 2 3 0]\n"
          ]
        }
      ]
    },
    {
      "cell_type": "code",
      "source": [
        "arr = np.array([1,2,3,4,5,6,7,0,0,0])\n",
        "def rmvlast(arr, size):\n",
        "    if size == 0:\n",
        "        return 'Not possible'\n",
        "    arr[size-1] = 0\n",
        "    return arr\n",
        "\n",
        "print(rmvlast(arr, 7))"
      ],
      "metadata": {
        "colab": {
          "base_uri": "https://localhost:8080/"
        },
        "id": "cIVvgQfy-mwE",
        "outputId": "e2a76208-507b-45c6-994e-1be5d306c801"
      },
      "execution_count": 24,
      "outputs": [
        {
          "output_type": "stream",
          "name": "stdout",
          "text": [
            "[1 2 3 4 5 6 0 0 0 0]\n"
          ]
        }
      ]
    },
    {
      "cell_type": "code",
      "source": [
        "# Remove any other but last elem\n",
        "\n",
        "def elem_inbetween(arr, size, index):\n",
        "    if index<0 or index>=len(arr):\n",
        "        return 'Not possible'\n",
        "    arr[index] = 0\n",
        "    for i in range(index, size-1):\n",
        "        arr[i] = arr[i+1]\n",
        "    arr[size-1] = 0\n",
        "    return arr\n",
        "\n",
        "\n",
        "a = np.array([1, 2, 3, 4, 5])\n",
        "print(elem_inbetween(a, 5, 1))"
      ],
      "metadata": {
        "colab": {
          "base_uri": "https://localhost:8080/"
        },
        "id": "pt83dKV7_aKs",
        "outputId": "587b1e47-bbca-42b3-cb56-2ece581e52d5"
      },
      "execution_count": 25,
      "outputs": [
        {
          "output_type": "stream",
          "name": "stdout",
          "text": [
            "[1 3 4 5 0]\n"
          ]
        }
      ]
    },
    {
      "cell_type": "code",
      "source": [
        "def elem_remv(arr, index, size):\n",
        "    if index<0 or index>=len(arr):\n",
        "        return 'Not possible'\n",
        "    arr[index] = 0\n",
        "    for i in range(index, len(arr)-1):\n",
        "        arr[i] = arr[i+1]\n",
        "    arr[size-1] = 0\n",
        "    return arr\n",
        "\n",
        "arr = np.array([1, 2, 3, 4, 5])\n",
        "print(elem_remv(arr, index = 2, size = 5))"
      ],
      "metadata": {
        "id": "faDCDecqEyEW",
        "colab": {
          "base_uri": "https://localhost:8080/"
        },
        "outputId": "f968b182-2a7f-4218-ff3e-ba7e2e8888ec"
      },
      "execution_count": 30,
      "outputs": [
        {
          "output_type": "stream",
          "name": "stdout",
          "text": [
            "[1 2 4 5 0]\n"
          ]
        }
      ]
    },
    {
      "cell_type": "code",
      "source": [
        "# Sorting array\n",
        "# small to big\n",
        "\n",
        "def small_to_big(arr):\n",
        "    for i in range(len(arr)-1):         # ***This (len-1) is so important***\n",
        "        min = arr[i]\n",
        "        for j in range(i+1, len(arr)):\n",
        "            if arr[j]<min:\n",
        "                min = arr[j]\n",
        "                indx = j\n",
        "        arr[i], arr[indx] = min, arr[i]\n",
        "    return arr\n",
        "arr = np.array([5, 3, 6, 8, 2, 0, -1, -2])\n",
        "print(small_to_big(arr))"
      ],
      "metadata": {
        "colab": {
          "base_uri": "https://localhost:8080/"
        },
        "id": "OgopflreL5en",
        "outputId": "079b994a-dd36-47c8-9725-9c2d2e165020"
      },
      "execution_count": 106,
      "outputs": [
        {
          "output_type": "stream",
          "name": "stdout",
          "text": [
            "[-2 -1  0  2  3  5  6  8]\n"
          ]
        }
      ]
    },
    {
      "cell_type": "code",
      "source": [
        "def small_to_bg(arr):\n",
        "    for i in range(len(arr)-1):\n",
        "        min = arr[i]\n",
        "        for j in range(i+1, len(arr)):\n",
        "            if arr[j]<min:\n",
        "                min = arr[j]\n",
        "                indx = j\n",
        "        arr[i], arr[indx] = min, arr[i]\n",
        "        print(arr)\n",
        "    return arr\n",
        "\n",
        "a = np.array([1, 0, 4, 2, -1, -5, 7])\n",
        "print(small_to_bg(a))"
      ],
      "metadata": {
        "colab": {
          "base_uri": "https://localhost:8080/"
        },
        "id": "bLJWMLGOQOyv",
        "outputId": "ffd8bcb1-c29e-4dc2-9712-9ac72ffe83ee"
      },
      "execution_count": 108,
      "outputs": [
        {
          "output_type": "stream",
          "name": "stdout",
          "text": [
            "[-5  0  4  2 -1  1  7]\n",
            "[-5 -1  4  2  0  1  7]\n",
            "[-5 -1  0  2  4  1  7]\n",
            "[-5 -1  0  1  4  2  7]\n",
            "[-5 -1  0  1  2  4  7]\n",
            "[-5 -1  0  1  2  4  7]\n",
            "[-5 -1  0  1  2  4  7]\n"
          ]
        }
      ]
    },
    {
      "cell_type": "markdown",
      "source": [
        "# **Multidimensional Array**\n",
        "\n",
        "*   2D Array\n",
        "*   3D Array\n",
        "\n",
        "\n",
        "*   There could be more dimensional array too\n",
        "\n",
        "\n",
        "*   Dimensions have to be fixed\n",
        "\n",
        "\n",
        "\n",
        "\n",
        "\n",
        "\n",
        "\n"
      ],
      "metadata": {
        "id": "_dCxrAEIycBD"
      }
    },
    {
      "cell_type": "code",
      "source": [
        "# Initialization\n",
        "\n",
        "arr = np.array([[1, 2, 3], [4, 5, 6]])\n",
        "print(arr)"
      ],
      "metadata": {
        "colab": {
          "base_uri": "https://localhost:8080/"
        },
        "id": "LE3yppk2lPL1",
        "outputId": "4b948b0a-09fb-491c-bbee-5b387e00dab8"
      },
      "execution_count": 109,
      "outputs": [
        {
          "output_type": "stream",
          "name": "stdout",
          "text": [
            "[[1 2 3]\n",
            " [4 5 6]]\n"
          ]
        }
      ]
    },
    {
      "cell_type": "code",
      "source": [
        "# Another way of initialization\n",
        "\n",
        "m = np.zeros((3,2), dtype=int)      # same as linear array\n",
        "print(m)"
      ],
      "metadata": {
        "colab": {
          "base_uri": "https://localhost:8080/"
        },
        "id": "fZApm92xM1gK",
        "outputId": "669fc96b-33c8-42b7-a6df-02f22076bab2"
      },
      "execution_count": 130,
      "outputs": [
        {
          "output_type": "stream",
          "name": "stdout",
          "text": [
            "[[0 0]\n",
            " [0 0]\n",
            " [0 0]]\n"
          ]
        }
      ]
    },
    {
      "cell_type": "code",
      "source": [
        "# row = length of outer array\n",
        "print(f'Row: {len(arr)}')\n",
        "\n",
        "# column = length of inner array\n",
        "print(f'Column: {len(arr[0])}')\n"
      ],
      "metadata": {
        "colab": {
          "base_uri": "https://localhost:8080/"
        },
        "id": "qKQ2lou92PuU",
        "outputId": "c71e3e93-9652-4477-8485-7501be014307"
      },
      "execution_count": 111,
      "outputs": [
        {
          "output_type": "stream",
          "name": "stdout",
          "text": [
            "Row: 2\n",
            "Column: 3\n"
          ]
        }
      ]
    },
    {
      "cell_type": "code",
      "source": [
        "# another way of finding row and column\n",
        "\n",
        "row, column = arr.shape     # This gives a tuple\n",
        "print(row, column)"
      ],
      "metadata": {
        "colab": {
          "base_uri": "https://localhost:8080/"
        },
        "id": "o4re70Td6MFm",
        "outputId": "cab7b145-1a84-42ae-9613-832e97583e3b"
      },
      "execution_count": 113,
      "outputs": [
        {
          "output_type": "stream",
          "name": "stdout",
          "text": [
            "2 3\n"
          ]
        }
      ]
    },
    {
      "cell_type": "code",
      "source": [
        "# Iteration         # row print also\n",
        "\n",
        "arr = np.array([[1, 2, 3], [4, 5, 6]])\n",
        "for i in range(len(arr)):\n",
        "    for j in range(len(arr[0])):\n",
        "        print(arr[i][j])"
      ],
      "metadata": {
        "colab": {
          "base_uri": "https://localhost:8080/"
        },
        "id": "IVcusg7w2htA",
        "outputId": "d0dc357e-b514-45f3-e66c-fa6c0ce2d426"
      },
      "execution_count": 112,
      "outputs": [
        {
          "output_type": "stream",
          "name": "stdout",
          "text": [
            "1\n",
            "2\n",
            "3\n",
            "4\n",
            "5\n",
            "6\n"
          ]
        }
      ]
    },
    {
      "cell_type": "code",
      "source": [
        "# column print\n",
        "\n",
        "m = np.array([[1, 2, 3], [4, 5, 6]])\n",
        "print(m)\n",
        "\n",
        "def column_print(m):\n",
        "    r, c = m.shape\n",
        "    for i in range(c):\n",
        "        for j in range(r):\n",
        "            print(m[j][i])\n",
        "\n",
        "column_print(m)"
      ],
      "metadata": {
        "colab": {
          "base_uri": "https://localhost:8080/"
        },
        "id": "fRf4nhFm4n-e",
        "outputId": "afcacc49-a4d3-4d20-e8bf-6a930abb5aeb"
      },
      "execution_count": 124,
      "outputs": [
        {
          "output_type": "stream",
          "name": "stdout",
          "text": [
            "[[1 2 3]\n",
            " [4 5 6]]\n",
            "1\n",
            "4\n",
            "2\n",
            "5\n",
            "3\n",
            "6\n"
          ]
        }
      ]
    },
    {
      "cell_type": "code",
      "source": [
        "\n",
        "m = np.array([[1, 2, 3], [4, 5, 6]])\n",
        "for i in range(len(m[0])):\n",
        "    for j in range(len(m)):\n",
        "        print(m[j][i])"
      ],
      "metadata": {
        "colab": {
          "base_uri": "https://localhost:8080/"
        },
        "id": "DOLTlEI3AWwu",
        "outputId": "103ccd7f-a991-482a-dea7-6579b61f12ce"
      },
      "execution_count": 125,
      "outputs": [
        {
          "output_type": "stream",
          "name": "stdout",
          "text": [
            "1\n",
            "4\n",
            "2\n",
            "5\n",
            "3\n",
            "6\n"
          ]
        }
      ]
    },
    {
      "cell_type": "code",
      "source": [
        "# Add 2 matrix\n",
        "\n",
        "def add_matrix(m, n):\n",
        "    if m.shape != n.shape:\n",
        "        return 'Not possible'\n",
        "    for i in range(len(m)):\n",
        "        for j in range(len(m[0])):\n",
        "            m[i][j] += n[i][j]\n",
        "    return m\n",
        "\n",
        "a = np.array([[1,2,3], [4,5,6]])\n",
        "b = np.array([[1,1,1], [1,1,1]])\n",
        "print(add_matrix(a, b))"
      ],
      "metadata": {
        "colab": {
          "base_uri": "https://localhost:8080/"
        },
        "id": "hlSacGnjEy9s",
        "outputId": "c34815be-7fc8-499e-87d6-e617462c5fbe"
      },
      "execution_count": 128,
      "outputs": [
        {
          "output_type": "stream",
          "name": "stdout",
          "text": [
            "[[2 3 4]\n",
            " [5 6 7]]\n"
          ]
        }
      ]
    },
    {
      "cell_type": "code",
      "source": [],
      "metadata": {
        "id": "NNFmg6DXG2_o"
      },
      "execution_count": null,
      "outputs": []
    }
  ]
}